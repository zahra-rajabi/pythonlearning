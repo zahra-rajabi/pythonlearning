{
 "cells": [
  {
   "cell_type": "code",
   "execution_count": null,
   "metadata": {},
   "outputs": [],
   "source": [
    "a = input()\n",
    "if 3 < int(a) < 13 :\n",
    "    print('yes')\n",
    "    print('hello world')\n",
    "elif int(a) < 3:\n",
    "    print('fuck')\n",
    "else :\n",
    "    print ('the number is invalid')"
   ]
  },
  {
   "cell_type": "code",
   "execution_count": null,
   "metadata": {},
   "outputs": [],
   "source": [
    "b = int(input())\n",
    "\n",
    "if b % 2 == 0 :\n",
    "    print('even')\n",
    "else: print('odd' , b%2)"
   ]
  },
  {
   "cell_type": "code",
   "execution_count": null,
   "metadata": {},
   "outputs": [],
   "source": [
    "c = int(input('first number'))\n",
    "d = int(input('second number'))\n",
    "\n",
    "print( c**d)"
   ]
  },
  {
   "cell_type": "code",
   "execution_count": null,
   "metadata": {},
   "outputs": [],
   "source": [
    "c = int(input('first number'))\n",
    "f= input('inter the symbol')\n",
    "d = int(input('second number'))\n",
    "\n",
    "\n",
    "if f == \"+\" : \n",
    "    print( c , \"+ \", d , end=\" = \")\n",
    "    print (c + d)\n",
    "elif f == '-' : \n",
    "    print(c - d )\n",
    "\n",
    "elif f == '%' : \n",
    "    print(c % d )\n",
    "\n",
    "elif f == '/' : \n",
    "    print(c / d )\n",
    "    \n",
    "elif f == '**' : \n",
    "    print(c ** d )\n",
    "elif f == '*' : \n",
    "    print(c * d )\n",
    "else:\n",
    "    print('i can do it')"
   ]
  },
  {
   "cell_type": "code",
   "execution_count": null,
   "metadata": {},
   "outputs": [],
   "source": [
    "for i in range(100):\n",
    "    print(i)"
   ]
  },
  {
   "cell_type": "code",
   "execution_count": null,
   "metadata": {},
   "outputs": [],
   "source": [
    "for i in range(21):\n",
    "    if not i%2:\n",
    "        print(i)"
   ]
  },
  {
   "cell_type": "code",
   "execution_count": null,
   "metadata": {},
   "outputs": [],
   "source": [
    "for i in range(0 , 100 , 7):\n",
    "    print(i)"
   ]
  },
  {
   "cell_type": "code",
   "execution_count": null,
   "metadata": {},
   "outputs": [],
   "source": [
    "sum_of_numbers= 0\n",
    "flag = False\n",
    "total_of_number = int(input(\"how many number do you have?\"))\n",
    "for a in range(total_of_number): \n",
    "    a = int(input())\n",
    "    if a > 100 : \n",
    "        total_of_number -= 1\n",
    "        continue\n",
    "    sum_of_numbers += a\n",
    "    if a < 0 : flag = True\n",
    "    else : flag = False\n",
    " \n",
    "\n",
    "print(\"sum is \" , sum_of_numbers )\n",
    "print('average is ' , sum_of_numbers / total_of_number)\n",
    "print(flag)\n",
    "\n",
    "    "
   ]
  },
  {
   "cell_type": "code",
   "execution_count": 41,
   "metadata": {},
   "outputs": [
    {
     "name": "stdout",
     "output_type": "stream",
     "text": [
      "False 18\n"
     ]
    }
   ],
   "source": [
    "number = int(input('enter your number'))\n",
    "prime = True\n",
    "\n",
    "for i in range(2, number):\n",
    "    if(number == 1):\n",
    "        prime = True\n",
    "        break\n",
    "\n",
    "    baghimande = number%i\n",
    "    if(baghimande == 0):\n",
    "            prime = False\n",
    "            break\n",
    "   \n",
    "\n",
    "print(prime  , number)\n",
    "\n"
   ]
  },
  {
   "cell_type": "code",
   "execution_count": 12,
   "metadata": {},
   "outputs": [
    {
     "name": "stdout",
     "output_type": "stream",
     "text": [
      "average is 60 3 20\n"
     ]
    }
   ],
   "source": [
    "sum_of_numbers = 0 \n",
    "counter = 0 \n",
    "number = 0\n",
    "while number != -1:\n",
    "    number = int(input('give me a number'))\n",
    "    if number == -1:\n",
    "        \n",
    "        break\n",
    "    counter += 1 \n",
    "    sum_of_numbers += number\n",
    "print(\"average is\" , sum_of_numbers , counter , sum_of_numbers//counter )\n"
   ]
  },
  {
   "cell_type": "code",
   "execution_count": 21,
   "metadata": {},
   "outputs": [
    {
     "name": "stdout",
     "output_type": "stream",
     "text": [
      "1\n",
      "2\n",
      "3\n",
      "5\n"
     ]
    }
   ],
   "source": [
    "number = int(input('give me a number'))\n",
    "\n",
    "\n",
    "for i in range(1 , number):\n",
    "    isPrime = True\n",
    "\n",
    "    for j in range(2,i):\n",
    "        if i%j == 0:\n",
    "            isPrime = False\n",
    "            break\n",
    "    if isPrime :\n",
    "        print(i)"
   ]
  },
  {
   "cell_type": "code",
   "execution_count": null,
   "metadata": {},
   "outputs": [],
   "source": []
  }
 ],
 "metadata": {
  "kernelspec": {
   "display_name": "Python 3",
   "language": "python",
   "name": "python3"
  },
  "language_info": {
   "codemirror_mode": {
    "name": "ipython",
    "version": 3
   },
   "file_extension": ".py",
   "mimetype": "text/x-python",
   "name": "python",
   "nbconvert_exporter": "python",
   "pygments_lexer": "ipython3",
   "version": "3.13.1"
  }
 },
 "nbformat": 4,
 "nbformat_minor": 2
}
